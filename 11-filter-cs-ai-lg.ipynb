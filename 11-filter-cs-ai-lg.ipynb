{
 "cells": [
  {
   "cell_type": "code",
   "execution_count": null,
   "id": "2757513c-9299-4b51-a708-6cfa704e0f3c",
   "metadata": {},
   "outputs": [],
   "source": [
    "import pandas as pd"
   ]
  },
  {
   "cell_type": "code",
   "execution_count": null,
   "id": "77e460f3-5507-4ac2-b073-aaefbf256613",
   "metadata": {},
   "outputs": [],
   "source": [
    "# Download ist zu groß\n",
    "df = pd.read_parquet(\"arxiv-2025-02.parquet\")"
   ]
  },
  {
   "cell_type": "code",
   "execution_count": null,
   "id": "c0c1a97b-3254-4285-9775-094cd2ff65cf",
   "metadata": {},
   "outputs": [],
   "source": [
    "df.dtypes"
   ]
  },
  {
   "cell_type": "code",
   "execution_count": null,
   "id": "18f9dd1e-4eb6-400c-8790-3a7553ac0861",
   "metadata": {},
   "outputs": [],
   "source": [
    "llm_mask = df[\"categories\"].apply(lambda x: ('cs.LG' in x) or (\"cs.CL\" in x))"
   ]
  },
  {
   "cell_type": "code",
   "execution_count": null,
   "id": "f8933698-2bda-4798-8ac3-ce3d6203a77b",
   "metadata": {},
   "outputs": [],
   "source": [
    "ai = df[llm_mask].copy()"
   ]
  },
  {
   "cell_type": "code",
   "execution_count": null,
   "id": "35f00f56-4019-4561-8c2d-4e4d686edf5c",
   "metadata": {},
   "outputs": [],
   "source": [
    "len(ai)"
   ]
  },
  {
   "cell_type": "code",
   "execution_count": null,
   "id": "ecaadb47-7763-4bc4-9556-f1194c6ee49f",
   "metadata": {},
   "outputs": [],
   "source": [
    "ai[ai[\"year\"] >= '2023'].to_parquet(\"arxiv-2023-llm.parquet\", compression=\"zstd\")"
   ]
  }
 ],
 "metadata": {
  "kernelspec": {
   "display_name": "Python 3 (ipykernel)",
   "language": "python",
   "name": "python3"
  },
  "language_info": {
   "codemirror_mode": {
    "name": "ipython",
    "version": 3
   },
   "file_extension": ".py",
   "mimetype": "text/x-python",
   "name": "python",
   "nbconvert_exporter": "python",
   "pygments_lexer": "ipython3",
   "version": "3.12.3"
  }
 },
 "nbformat": 4,
 "nbformat_minor": 5
}
