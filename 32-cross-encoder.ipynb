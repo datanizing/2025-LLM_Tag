{
 "cells": [
  {
   "cell_type": "code",
   "execution_count": null,
   "id": "4c9f0989-f0fc-4ece-be8e-3a66ab42b3a7",
   "metadata": {},
   "outputs": [],
   "source": [
    "import pandas as pd\n",
    "from tqdm.auto import tqdm\n",
    "from sentence_transformers import SentenceTransformer"
   ]
  },
  {
   "cell_type": "code",
   "execution_count": null,
   "id": "a47ff6ff-ef13-43b3-babf-8d4d8121d43f",
   "metadata": {},
   "outputs": [],
   "source": [
    "model_name = \"Snowflake/snowflake-arctic-embed-l-v2.0\"\n",
    "model = SentenceTransformer(model_name, trust_remote_code=True).cuda()"
   ]
  },
  {
   "cell_type": "code",
   "execution_count": null,
   "id": "c667c0e6-6d8b-446c-a01c-7ff2ac81921d",
   "metadata": {},
   "outputs": [],
   "source": [
    "import numpy as np\n",
    "with open(\"llm-abstract-sentences-saev2.npy\",  \"rb\") as f:\n",
    "    embeddings = np.load(f)"
   ]
  },
  {
   "cell_type": "code",
   "execution_count": null,
   "id": "6444c400-0c59-40ae-b1d1-30da92725dd3",
   "metadata": {},
   "outputs": [],
   "source": [
    "import json\n",
    "import lzma\n",
    "with lzma.open(\"llm-abstract-sentences.json.xz\", \"rt\") as f:\n",
    "    es = json.loads(f.read())"
   ]
  },
  {
   "cell_type": "code",
   "execution_count": null,
   "id": "4f410314-e4aa-457d-815a-7fcd858f2487",
   "metadata": {},
   "outputs": [],
   "source": [
    "sentences = [e[\"title\"] + \": \" + e[\"text\"] for e in es]"
   ]
  },
  {
   "cell_type": "code",
   "execution_count": null,
   "id": "7db7a382-cf9f-4e9d-a154-a811479d22ca",
   "metadata": {},
   "outputs": [],
   "source": [
    "from FlagEmbedding import FlagReranker\n",
    "reranker = FlagReranker('BAAI/bge-reranker-v2-m3', use_fp16=True)"
   ]
  },
  {
   "cell_type": "markdown",
   "id": "4dddad02-fea3-40a0-b9b2-eb4ad04f910b",
   "metadata": {},
   "source": [
    "# Retrieval"
   ]
  },
  {
   "cell_type": "code",
   "execution_count": null,
   "id": "416ac725-97c8-4709-aad3-f36cac16a0c7",
   "metadata": {},
   "outputs": [],
   "source": [
    "import numpy as np\n",
    "import pandas as pd\n",
    "def search(query, text, embeddings, bi_encoder, cross_encoder, top=100):\n",
    "    question_embedding = bi_encoder.encode(query, normalize_embeddings=True, prompt_name=\"query\")\n",
    "    \n",
    "    sim = model.similarity(question_embedding, embeddings).flatten().numpy() \n",
    "    \n",
    "    hits = [ { \"text\": text[i], \"score\": sim[i] } \n",
    "                     for i in sim.argsort()[::-1][0:top] ]\n",
    "\n",
    "    # Consider only top hits for re-ranking\n",
    "    cross_input = [[query, hit[\"text\"]] for hit in hits]\n",
    "    # cross-encode (this takes most time)\n",
    "    cross_scores = cross_encoder.compute_score(cross_input)\n",
    "\n",
    "    # Integrate cross-scores in original hits (this would be easier with pandas)\n",
    "    for i in range(len(cross_scores)):\n",
    "        hits[i][\"cross-score\"] = cross_scores[i]\n",
    "\n",
    "    # re-sort by cross-score, descending!\n",
    "    hits = sorted(hits, key=lambda x: x[\"cross-score\"], reverse=True)\n",
    "    \n",
    "    # Return top-20 results of re-ranker as dataframe\n",
    "    return pd.DataFrame(hits[0:20])"
   ]
  },
  {
   "cell_type": "code",
   "execution_count": null,
   "id": "09a56d4c-d752-4510-a5e5-dbbdfc7a01a4",
   "metadata": {},
   "outputs": [],
   "source": []
  },
  {
   "cell_type": "code",
   "execution_count": null,
   "id": "7b3a0f3f-6a10-406e-938c-ff7573787206",
   "metadata": {},
   "outputs": [],
   "source": [
    "pd.set_option('display.max_colwidth', 0)"
   ]
  },
  {
   "cell_type": "code",
   "execution_count": null,
   "id": "ed14fc30-5640-4891-8ae1-defa57bf21a6",
   "metadata": {},
   "outputs": [],
   "source": [
    "search(\"How long do I train an LLM?\", sentences, embeddings, model, reranker)"
   ]
  },
  {
   "cell_type": "code",
   "execution_count": null,
   "id": "db2a43d8",
   "metadata": {},
   "outputs": [],
   "source": [
    "search(\"How long was Llama 3.2 trained?\", sentences, embeddings, model, reranker)"
   ]
  },
  {
   "cell_type": "code",
   "execution_count": null,
   "id": "a58ed46d-024f-46ae-89a4-9bc29fea854f",
   "metadata": {},
   "outputs": [],
   "source": [
    "search(\"How does SGD work?\", sentences, embeddings, model, reranker)"
   ]
  },
  {
   "cell_type": "code",
   "execution_count": null,
   "id": "3211252f-1cc6-4601-83e3-151ef9397e70",
   "metadata": {},
   "outputs": [],
   "source": [
    "# cross encoder\n",
    "from sentence_transformers import CrossEncoder, util\n",
    "cross_encoder = CrossEncoder('cross-encoder/ms-marco-MiniLM-L-6-v2')"
   ]
  },
  {
   "cell_type": "code",
   "execution_count": null,
   "id": "893bdff7-8b0c-4390-93a1-d62db6ee1b74",
   "metadata": {},
   "outputs": [],
   "source": [
    "from sentence_transformers import CrossEncoder, util\n",
    "cross_encoder = CrossEncoder(\"jinaai/jina-reranker-v2-base-multilingual\",\n",
    "    automodel_args={\"torch_dtype\": \"auto\"},\n",
    "    trust_remote_code=True)"
   ]
  },
  {
   "cell_type": "code",
   "execution_count": null,
   "id": "3a515b6a-0e2d-4948-8213-1e2a455eb32a",
   "metadata": {},
   "outputs": [],
   "source": [
    "import numpy as np\n",
    "import pandas as pd\n",
    "def search(query, text, embeddings, bi_encoder, cross_encoder, top=100):\n",
    "    question_embedding = bi_encoder.encode(query, normalize_embeddings=True, prompt_name=\"query\")\n",
    "    \n",
    "    sim = model.similarity(question_embedding, embeddings).flatten().numpy() \n",
    "    \n",
    "    hits = [ { \"text\": text[i], \"score\": sim[i] } \n",
    "                     for i in sim.argsort()[::-1][0:top] ]\n",
    "\n",
    "    # Consider only top hits for re-ranking\n",
    "    cross_input = [[query, hit[\"text\"]] for hit in hits]\n",
    "    # cross-encode (this takes most time)\n",
    "    cross_scores = cross_encoder.predict(cross_input)\n",
    "\n",
    "    # Integrate cross-scores in original hits (this would be easier with pandas)\n",
    "    for i in range(len(cross_scores)):\n",
    "        hits[i][\"cross-score\"] = cross_scores[i]\n",
    "\n",
    "    # re-sort by cross-score, descending!\n",
    "    hits = sorted(hits, key=lambda x: x[\"cross-score\"], reverse=True)\n",
    "    \n",
    "    # Return top-20 results of re-ranker as dataframe\n",
    "    return pd.DataFrame(hits[0:20])"
   ]
  },
  {
   "cell_type": "code",
   "execution_count": null,
   "id": "af703e9f-df56-4343-84e9-b0e1177f0458",
   "metadata": {},
   "outputs": [],
   "source": [
    "search(\"How long do I train an LLM?\", sentences, embeddings, model, cross_encoder)"
   ]
  },
  {
   "cell_type": "code",
   "execution_count": null,
   "id": "3a5008ae-1d99-4a60-9df0-6c84d107df9a",
   "metadata": {},
   "outputs": [],
   "source": [
    "search(\"How long was Llama 3.2 trained?\", sentences, embeddings, model, cross_encoder)"
   ]
  },
  {
   "cell_type": "code",
   "execution_count": null,
   "id": "d11771aa-7884-4eba-a112-8d0cd8fcec2a",
   "metadata": {},
   "outputs": [],
   "source": [
    "search(\"How does SGD work?\", sentences, embeddings, model, cross_encoder)"
   ]
  },
  {
   "cell_type": "code",
   "execution_count": null,
   "id": "f107e90f-f9fa-4336-9dfd-9bfd70901c5b",
   "metadata": {},
   "outputs": [],
   "source": []
  }
 ],
 "metadata": {
  "kernelspec": {
   "display_name": "Python 3 (ipykernel)",
   "language": "python",
   "name": "python3"
  },
  "language_info": {
   "codemirror_mode": {
    "name": "ipython",
    "version": 3
   },
   "file_extension": ".py",
   "mimetype": "text/x-python",
   "name": "python",
   "nbconvert_exporter": "python",
   "pygments_lexer": "ipython3",
   "version": "3.12.3"
  }
 },
 "nbformat": 4,
 "nbformat_minor": 5
}
