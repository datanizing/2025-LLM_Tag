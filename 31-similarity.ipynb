{
 "cells": [
  {
   "cell_type": "code",
   "execution_count": null,
   "id": "4c9f0989-f0fc-4ece-be8e-3a66ab42b3a7",
   "metadata": {},
   "outputs": [],
   "source": [
    "import pandas as pd\n",
    "from tqdm.auto import tqdm\n",
    "from sentence_transformers import SentenceTransformer"
   ]
  },
  {
   "cell_type": "code",
   "execution_count": null,
   "id": "a47ff6ff-ef13-43b3-babf-8d4d8121d43f",
   "metadata": {},
   "outputs": [],
   "source": [
    "model_name = \"Snowflake/snowflake-arctic-embed-l-v2.0\"\n",
    "model = SentenceTransformer(model_name, trust_remote_code=True).cuda()"
   ]
  },
  {
   "cell_type": "code",
   "execution_count": null,
   "id": "c667c0e6-6d8b-446c-a01c-7ff2ac81921d",
   "metadata": {},
   "outputs": [],
   "source": [
    "import numpy as np\n",
    "# Download zu groß\n",
    "with open(\"llm-abstract-sentences-saev2.npy\",  \"rb\") as f:\n",
    "    embeddings = np.load(f)"
   ]
  },
  {
   "cell_type": "code",
   "execution_count": null,
   "id": "6444c400-0c59-40ae-b1d1-30da92725dd3",
   "metadata": {},
   "outputs": [],
   "source": [
    "import json\n",
    "import lzma\n",
    "with lzma.open(\"llm-abstract-sentences.json.xz\", \"rt\") as f:\n",
    "    es = json.loads(f.read())"
   ]
  },
  {
   "cell_type": "code",
   "execution_count": null,
   "id": "4f410314-e4aa-457d-815a-7fcd858f2487",
   "metadata": {},
   "outputs": [],
   "source": [
    "sentences = [e[\"title\"] + \": \" + e[\"text\"] for e in es]"
   ]
  },
  {
   "cell_type": "markdown",
   "id": "4dddad02-fea3-40a0-b9b2-eb4ad04f910b",
   "metadata": {},
   "source": [
    "# Retrieval"
   ]
  },
  {
   "cell_type": "code",
   "execution_count": null,
   "id": "416ac725-97c8-4709-aad3-f36cac16a0c7",
   "metadata": {},
   "outputs": [],
   "source": [
    "def search(query, text, embeddings, model, top=20):\n",
    "    question_embedding = model.encode(query, normalize_embeddings=True, prompt_name=\"query\")\n",
    "    \n",
    "    # Ähnlichkeiten bestimmen\n",
    "    sim = model.similarity(question_embedding, embeddings).flatten().numpy()\n",
    "    \n",
    "    # ähnlichste k bestimmen und zurückgegeben\n",
    "    hits = [ { \"text\": text[i], \"score\": sim[i] } \n",
    "                     for i in sim.argsort()[::-1][0:top] ]\n",
    "    \n",
    "    # Darstellung als DataFrame\n",
    "    return pd.DataFrame(hits)"
   ]
  },
  {
   "cell_type": "code",
   "execution_count": null,
   "id": "7b3a0f3f-6a10-406e-938c-ff7573787206",
   "metadata": {},
   "outputs": [],
   "source": [
    "pd.set_option('display.max_colwidth', 0)"
   ]
  },
  {
   "cell_type": "code",
   "execution_count": null,
   "id": "ed14fc30-5640-4891-8ae1-defa57bf21a6",
   "metadata": {},
   "outputs": [],
   "source": [
    "search(\"How long do I train an LLM?\", sentences, embeddings, model)"
   ]
  },
  {
   "cell_type": "code",
   "execution_count": null,
   "id": "db2a43d8",
   "metadata": {},
   "outputs": [],
   "source": [
    "search(\"How long was Llama 3.2 trained?\", sentences, embeddings, model)"
   ]
  },
  {
   "cell_type": "code",
   "execution_count": null,
   "id": "a58ed46d-024f-46ae-89a4-9bc29fea854f",
   "metadata": {},
   "outputs": [],
   "source": [
    "search(\"How does SGD work?\", sentences, embeddings, model)"
   ]
  }
 ],
 "metadata": {
  "kernelspec": {
   "display_name": "Python 3 (ipykernel)",
   "language": "python",
   "name": "python3"
  },
  "language_info": {
   "codemirror_mode": {
    "name": "ipython",
    "version": 3
   },
   "file_extension": ".py",
   "mimetype": "text/x-python",
   "name": "python",
   "nbconvert_exporter": "python",
   "pygments_lexer": "ipython3",
   "version": "3.12.3"
  }
 },
 "nbformat": 4,
 "nbformat_minor": 5
}
