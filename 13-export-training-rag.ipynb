{
 "cells": [
  {
   "cell_type": "code",
   "execution_count": null,
   "id": "02d97819-9dbc-4334-9e69-eb4e049651fc",
   "metadata": {},
   "outputs": [],
   "source": [
    "import pandas as pd"
   ]
  },
  {
   "cell_type": "markdown",
   "id": "5f5c4f13-e2b6-48f6-98fe-58d2e3590f6d",
   "metadata": {},
   "source": [
    "Create combinations of sentences"
   ]
  },
  {
   "cell_type": "code",
   "execution_count": null,
   "id": "c000c791-233c-4927-a8f2-57de59cbabf8",
   "metadata": {},
   "outputs": [],
   "source": [
    "# download unter https://datanizing.com/llm-tag/arxiv-2023-llm-linguistic.parquet\n",
    "df = pd.read_parquet(\"arxiv-2023-llm-linguistic.parquet\", columns=['title', 'abstract', 'sentences'])"
   ]
  },
  {
   "cell_type": "code",
   "execution_count": null,
   "id": "c610fa2b-60ec-401e-9103-42d9b85fcc9a",
   "metadata": {},
   "outputs": [],
   "source": [
    "df.columns"
   ]
  },
  {
   "cell_type": "code",
   "execution_count": null,
   "id": "94136d2f-369e-47bc-bb91-ba28cb1fab3e",
   "metadata": {},
   "outputs": [],
   "source": [
    "from tqdm.auto import tqdm\n",
    "import regex as re\n",
    "embed_sentences = []\n",
    "for j, r in tqdm(df.iterrows(), total=len(df)):\n",
    "    sentences = r[\"sentences\"]\n",
    "    for i in range(0, len(sentences), 3):\n",
    "        start = max(0, i)\n",
    "        stop = min(start+5, len(sentences))\n",
    "        text = re.sub(\" +\", \" \", \" \".join(sentences[start:stop]).replace(\"\\n\", \" \"))\n",
    "        embed_sentences.append({ \"id\": j, \"title\": r[\"title\"], \n",
    "                                 \"text\": text  })\n",
    "        # don't continue if last sentence reached\n",
    "        if stop == len(sentences):\n",
    "            break"
   ]
  },
  {
   "cell_type": "code",
   "execution_count": null,
   "id": "38093d45-b81b-4ea5-b59b-fcfc6fe89970",
   "metadata": {},
   "outputs": [],
   "source": [
    "len(embed_sentences)"
   ]
  },
  {
   "cell_type": "code",
   "execution_count": null,
   "id": "0fe2cf16-0f0b-4331-aeb3-7bcf3d9f9a1b",
   "metadata": {},
   "outputs": [],
   "source": [
    "import json\n",
    "with open(\"llm-abstract-sentences.json\", \"w\") as f:\n",
    "    f.write(json.dumps(embed_sentences))"
   ]
  },
  {
   "cell_type": "markdown",
   "id": "edb9e8b9-e231-4acc-80a1-5d0fef570d85",
   "metadata": {},
   "source": [
    "Write JSON dataset for generative model"
   ]
  },
  {
   "cell_type": "code",
   "execution_count": null,
   "id": "c1853438-6bd0-4a98-9344-d2f7d799814d",
   "metadata": {},
   "outputs": [],
   "source": [
    "import json\n",
    "system_prompt = \"\"\"You are an educated researcher and always answer in correct scientific terms. \n",
    "You are very deep into AI and its methodologies. You are very creative.\"\"\"\n",
    "\n",
    "with open(\"llm-abstract-dataset.jsonl\", \"w\") as outfile:\n",
    "    for i, r in df.iterrows():\n",
    "        title = r[\"title\"]\n",
    "        abstract = r[\"abstract\"]\n",
    "        j = { \"messages\": [ { \"content\": system_prompt, \"role\": \"system\" },\n",
    "                            { \"content\": f\"Write an abstract with the title '{title}'\", \"role\": \"user\" },\n",
    "                            { \"content\": abstract, \"role\": \"assistant\" } ] }\n",
    "        print(json.dumps(j), file=outfile)"
   ]
  },
  {
   "cell_type": "code",
   "execution_count": null,
   "id": "b2d65b46-bc96-4ff6-b3be-aec2021242eb",
   "metadata": {},
   "outputs": [],
   "source": []
  }
 ],
 "metadata": {
  "kernelspec": {
   "display_name": "Python 3 (ipykernel)",
   "language": "python",
   "name": "python3"
  },
  "language_info": {
   "codemirror_mode": {
    "name": "ipython",
    "version": 3
   },
   "file_extension": ".py",
   "mimetype": "text/x-python",
   "name": "python",
   "nbconvert_exporter": "python",
   "pygments_lexer": "ipython3",
   "version": "3.12.3"
  }
 },
 "nbformat": 4,
 "nbformat_minor": 5
}
